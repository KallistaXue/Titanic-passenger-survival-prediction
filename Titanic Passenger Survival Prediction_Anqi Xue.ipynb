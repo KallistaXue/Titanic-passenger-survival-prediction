{
 "cells": [
  {
   "cell_type": "markdown",
   "id": "43d9dd98",
   "metadata": {},
   "source": [
    "# Titanic Passenger Survival Predition\n",
    "### by Anqi Xue  \n",
    "  \n",
    "Kaggle Challenge Link: https://www.kaggle.com/competitions/titanic/data  \n",
    "The Goal is to predict if a passenger survived the sinking of the Titanic or not."
   ]
  },
  {
   "cell_type": "markdown",
   "id": "8bd59c89",
   "metadata": {},
   "source": [
    "# Part 0: Environment Setup"
   ]
  },
  {
   "cell_type": "code",
   "execution_count": 1,
   "id": "7b86725b",
   "metadata": {},
   "outputs": [],
   "source": [
    "# Import numpy, pandas, matplotlib.pyplot and seaborn with our usual aliases.\n",
    "import numpy as np\n",
    "import pandas as pd\n",
    "import matplotlib.pyplot as plt\n",
    "import seaborn as sns\n",
    "\n",
    "# Set the seaborn style to darkgrid\n",
    "sns.set_style('darkgrid')\n",
    "\n",
    "# Execute the matplotlib magic function to display plots inline\n",
    "%matplotlib inline"
   ]
  },
  {
   "cell_type": "markdown",
   "id": "7be49950",
   "metadata": {},
   "source": [
    "# Part 1: Data Cleaning and Preprocessing"
   ]
  },
  {
   "cell_type": "markdown",
   "id": "6d77e227",
   "metadata": {},
   "source": [
    "## 1.1 Data Preparation\n",
    "\n",
    "This dataset contains details of the Titanic passenger information and the target variable is a binary variable indicating the survival (0 = No, 1 = Yes) of a passenger. "
   ]
  },
  {
   "cell_type": "code",
   "execution_count": 2,
   "id": "0c8bf09b",
   "metadata": {},
   "outputs": [],
   "source": [
    "# Load the train dataset and test dataset\n",
    "\n",
    "train_df = pd.read_csv('data/train.csv')\n",
    "test_df = pd.read_csv('data/test.csv')"
   ]
  },
  {
   "cell_type": "code",
   "execution_count": 3,
   "id": "c4dd70c1",
   "metadata": {},
   "outputs": [
    {
     "name": "stdout",
     "output_type": "stream",
     "text": [
      "<class 'pandas.core.frame.DataFrame'>\n",
      "RangeIndex: 891 entries, 0 to 890\n",
      "Data columns (total 12 columns):\n",
      " #   Column       Non-Null Count  Dtype  \n",
      "---  ------       --------------  -----  \n",
      " 0   PassengerId  891 non-null    int64  \n",
      " 1   Survived     891 non-null    int64  \n",
      " 2   Pclass       891 non-null    int64  \n",
      " 3   Name         891 non-null    object \n",
      " 4   Sex          891 non-null    object \n",
      " 5   Age          714 non-null    float64\n",
      " 6   SibSp        891 non-null    int64  \n",
      " 7   Parch        891 non-null    int64  \n",
      " 8   Ticket       891 non-null    object \n",
      " 9   Fare         891 non-null    float64\n",
      " 10  Cabin        204 non-null    object \n",
      " 11  Embarked     889 non-null    object \n",
      "dtypes: float64(2), int64(5), object(5)\n",
      "memory usage: 83.7+ KB\n"
     ]
    }
   ],
   "source": [
    "train_df.info()"
   ]
  },
  {
   "cell_type": "code",
   "execution_count": 4,
   "id": "c6aa12c4",
   "metadata": {},
   "outputs": [
    {
     "name": "stdout",
     "output_type": "stream",
     "text": [
      "<class 'pandas.core.frame.DataFrame'>\n",
      "RangeIndex: 418 entries, 0 to 417\n",
      "Data columns (total 11 columns):\n",
      " #   Column       Non-Null Count  Dtype  \n",
      "---  ------       --------------  -----  \n",
      " 0   PassengerId  418 non-null    int64  \n",
      " 1   Pclass       418 non-null    int64  \n",
      " 2   Name         418 non-null    object \n",
      " 3   Sex          418 non-null    object \n",
      " 4   Age          332 non-null    float64\n",
      " 5   SibSp        418 non-null    int64  \n",
      " 6   Parch        418 non-null    int64  \n",
      " 7   Ticket       418 non-null    object \n",
      " 8   Fare         417 non-null    float64\n",
      " 9   Cabin        91 non-null     object \n",
      " 10  Embarked     418 non-null    object \n",
      "dtypes: float64(2), int64(4), object(5)\n",
      "memory usage: 36.0+ KB\n"
     ]
    }
   ],
   "source": [
    "test_df.info()"
   ]
  },
  {
   "cell_type": "code",
   "execution_count": 5,
   "id": "f6d7d85a",
   "metadata": {},
   "outputs": [],
   "source": [
    "# Set PassengerId as the Index\n",
    "\n",
    "train_df = train_df.set_index('PassengerId')\n",
    "test_df = test_df.set_index('PassengerId')"
   ]
  },
  {
   "cell_type": "code",
   "execution_count": 6,
   "id": "5bd221ea",
   "metadata": {
    "scrolled": true
   },
   "outputs": [
    {
     "data": {
      "text/html": [
       "<div>\n",
       "<style scoped>\n",
       "    .dataframe tbody tr th:only-of-type {\n",
       "        vertical-align: middle;\n",
       "    }\n",
       "\n",
       "    .dataframe tbody tr th {\n",
       "        vertical-align: top;\n",
       "    }\n",
       "\n",
       "    .dataframe thead th {\n",
       "        text-align: right;\n",
       "    }\n",
       "</style>\n",
       "<table border=\"1\" class=\"dataframe\">\n",
       "  <thead>\n",
       "    <tr style=\"text-align: right;\">\n",
       "      <th></th>\n",
       "      <th>Survived</th>\n",
       "      <th>Pclass</th>\n",
       "      <th>Name</th>\n",
       "      <th>Sex</th>\n",
       "      <th>Age</th>\n",
       "      <th>SibSp</th>\n",
       "      <th>Parch</th>\n",
       "      <th>Ticket</th>\n",
       "      <th>Fare</th>\n",
       "      <th>Cabin</th>\n",
       "      <th>Embarked</th>\n",
       "    </tr>\n",
       "    <tr>\n",
       "      <th>PassengerId</th>\n",
       "      <th></th>\n",
       "      <th></th>\n",
       "      <th></th>\n",
       "      <th></th>\n",
       "      <th></th>\n",
       "      <th></th>\n",
       "      <th></th>\n",
       "      <th></th>\n",
       "      <th></th>\n",
       "      <th></th>\n",
       "      <th></th>\n",
       "    </tr>\n",
       "  </thead>\n",
       "  <tbody>\n",
       "    <tr>\n",
       "      <th>1</th>\n",
       "      <td>0</td>\n",
       "      <td>3</td>\n",
       "      <td>Braund, Mr. Owen Harris</td>\n",
       "      <td>male</td>\n",
       "      <td>22.0</td>\n",
       "      <td>1</td>\n",
       "      <td>0</td>\n",
       "      <td>A/5 21171</td>\n",
       "      <td>7.2500</td>\n",
       "      <td>NaN</td>\n",
       "      <td>S</td>\n",
       "    </tr>\n",
       "    <tr>\n",
       "      <th>2</th>\n",
       "      <td>1</td>\n",
       "      <td>1</td>\n",
       "      <td>Cumings, Mrs. John Bradley (Florence Briggs Th...</td>\n",
       "      <td>female</td>\n",
       "      <td>38.0</td>\n",
       "      <td>1</td>\n",
       "      <td>0</td>\n",
       "      <td>PC 17599</td>\n",
       "      <td>71.2833</td>\n",
       "      <td>C85</td>\n",
       "      <td>C</td>\n",
       "    </tr>\n",
       "    <tr>\n",
       "      <th>3</th>\n",
       "      <td>1</td>\n",
       "      <td>3</td>\n",
       "      <td>Heikkinen, Miss. Laina</td>\n",
       "      <td>female</td>\n",
       "      <td>26.0</td>\n",
       "      <td>0</td>\n",
       "      <td>0</td>\n",
       "      <td>STON/O2. 3101282</td>\n",
       "      <td>7.9250</td>\n",
       "      <td>NaN</td>\n",
       "      <td>S</td>\n",
       "    </tr>\n",
       "    <tr>\n",
       "      <th>4</th>\n",
       "      <td>1</td>\n",
       "      <td>1</td>\n",
       "      <td>Futrelle, Mrs. Jacques Heath (Lily May Peel)</td>\n",
       "      <td>female</td>\n",
       "      <td>35.0</td>\n",
       "      <td>1</td>\n",
       "      <td>0</td>\n",
       "      <td>113803</td>\n",
       "      <td>53.1000</td>\n",
       "      <td>C123</td>\n",
       "      <td>S</td>\n",
       "    </tr>\n",
       "    <tr>\n",
       "      <th>5</th>\n",
       "      <td>0</td>\n",
       "      <td>3</td>\n",
       "      <td>Allen, Mr. William Henry</td>\n",
       "      <td>male</td>\n",
       "      <td>35.0</td>\n",
       "      <td>0</td>\n",
       "      <td>0</td>\n",
       "      <td>373450</td>\n",
       "      <td>8.0500</td>\n",
       "      <td>NaN</td>\n",
       "      <td>S</td>\n",
       "    </tr>\n",
       "  </tbody>\n",
       "</table>\n",
       "</div>"
      ],
      "text/plain": [
       "             Survived  Pclass  \\\n",
       "PassengerId                     \n",
       "1                   0       3   \n",
       "2                   1       1   \n",
       "3                   1       3   \n",
       "4                   1       1   \n",
       "5                   0       3   \n",
       "\n",
       "                                                          Name     Sex   Age  \\\n",
       "PassengerId                                                                    \n",
       "1                                      Braund, Mr. Owen Harris    male  22.0   \n",
       "2            Cumings, Mrs. John Bradley (Florence Briggs Th...  female  38.0   \n",
       "3                                       Heikkinen, Miss. Laina  female  26.0   \n",
       "4                 Futrelle, Mrs. Jacques Heath (Lily May Peel)  female  35.0   \n",
       "5                                     Allen, Mr. William Henry    male  35.0   \n",
       "\n",
       "             SibSp  Parch            Ticket     Fare Cabin Embarked  \n",
       "PassengerId                                                          \n",
       "1                1      0         A/5 21171   7.2500   NaN        S  \n",
       "2                1      0          PC 17599  71.2833   C85        C  \n",
       "3                0      0  STON/O2. 3101282   7.9250   NaN        S  \n",
       "4                1      0            113803  53.1000  C123        S  \n",
       "5                0      0            373450   8.0500   NaN        S  "
      ]
     },
     "execution_count": 6,
     "metadata": {},
     "output_type": "execute_result"
    }
   ],
   "source": [
    "train_df.head()"
   ]
  },
  {
   "cell_type": "code",
   "execution_count": 7,
   "id": "ad31ae93",
   "metadata": {},
   "outputs": [
    {
     "data": {
      "text/html": [
       "<div>\n",
       "<style scoped>\n",
       "    .dataframe tbody tr th:only-of-type {\n",
       "        vertical-align: middle;\n",
       "    }\n",
       "\n",
       "    .dataframe tbody tr th {\n",
       "        vertical-align: top;\n",
       "    }\n",
       "\n",
       "    .dataframe thead th {\n",
       "        text-align: right;\n",
       "    }\n",
       "</style>\n",
       "<table border=\"1\" class=\"dataframe\">\n",
       "  <thead>\n",
       "    <tr style=\"text-align: right;\">\n",
       "      <th></th>\n",
       "      <th>Pclass</th>\n",
       "      <th>Name</th>\n",
       "      <th>Sex</th>\n",
       "      <th>Age</th>\n",
       "      <th>SibSp</th>\n",
       "      <th>Parch</th>\n",
       "      <th>Ticket</th>\n",
       "      <th>Fare</th>\n",
       "      <th>Cabin</th>\n",
       "      <th>Embarked</th>\n",
       "    </tr>\n",
       "    <tr>\n",
       "      <th>PassengerId</th>\n",
       "      <th></th>\n",
       "      <th></th>\n",
       "      <th></th>\n",
       "      <th></th>\n",
       "      <th></th>\n",
       "      <th></th>\n",
       "      <th></th>\n",
       "      <th></th>\n",
       "      <th></th>\n",
       "      <th></th>\n",
       "    </tr>\n",
       "  </thead>\n",
       "  <tbody>\n",
       "    <tr>\n",
       "      <th>892</th>\n",
       "      <td>3</td>\n",
       "      <td>Kelly, Mr. James</td>\n",
       "      <td>male</td>\n",
       "      <td>34.5</td>\n",
       "      <td>0</td>\n",
       "      <td>0</td>\n",
       "      <td>330911</td>\n",
       "      <td>7.8292</td>\n",
       "      <td>NaN</td>\n",
       "      <td>Q</td>\n",
       "    </tr>\n",
       "    <tr>\n",
       "      <th>893</th>\n",
       "      <td>3</td>\n",
       "      <td>Wilkes, Mrs. James (Ellen Needs)</td>\n",
       "      <td>female</td>\n",
       "      <td>47.0</td>\n",
       "      <td>1</td>\n",
       "      <td>0</td>\n",
       "      <td>363272</td>\n",
       "      <td>7.0000</td>\n",
       "      <td>NaN</td>\n",
       "      <td>S</td>\n",
       "    </tr>\n",
       "    <tr>\n",
       "      <th>894</th>\n",
       "      <td>2</td>\n",
       "      <td>Myles, Mr. Thomas Francis</td>\n",
       "      <td>male</td>\n",
       "      <td>62.0</td>\n",
       "      <td>0</td>\n",
       "      <td>0</td>\n",
       "      <td>240276</td>\n",
       "      <td>9.6875</td>\n",
       "      <td>NaN</td>\n",
       "      <td>Q</td>\n",
       "    </tr>\n",
       "    <tr>\n",
       "      <th>895</th>\n",
       "      <td>3</td>\n",
       "      <td>Wirz, Mr. Albert</td>\n",
       "      <td>male</td>\n",
       "      <td>27.0</td>\n",
       "      <td>0</td>\n",
       "      <td>0</td>\n",
       "      <td>315154</td>\n",
       "      <td>8.6625</td>\n",
       "      <td>NaN</td>\n",
       "      <td>S</td>\n",
       "    </tr>\n",
       "    <tr>\n",
       "      <th>896</th>\n",
       "      <td>3</td>\n",
       "      <td>Hirvonen, Mrs. Alexander (Helga E Lindqvist)</td>\n",
       "      <td>female</td>\n",
       "      <td>22.0</td>\n",
       "      <td>1</td>\n",
       "      <td>1</td>\n",
       "      <td>3101298</td>\n",
       "      <td>12.2875</td>\n",
       "      <td>NaN</td>\n",
       "      <td>S</td>\n",
       "    </tr>\n",
       "  </tbody>\n",
       "</table>\n",
       "</div>"
      ],
      "text/plain": [
       "             Pclass                                          Name     Sex  \\\n",
       "PassengerId                                                                 \n",
       "892               3                              Kelly, Mr. James    male   \n",
       "893               3              Wilkes, Mrs. James (Ellen Needs)  female   \n",
       "894               2                     Myles, Mr. Thomas Francis    male   \n",
       "895               3                              Wirz, Mr. Albert    male   \n",
       "896               3  Hirvonen, Mrs. Alexander (Helga E Lindqvist)  female   \n",
       "\n",
       "              Age  SibSp  Parch   Ticket     Fare Cabin Embarked  \n",
       "PassengerId                                                       \n",
       "892          34.5      0      0   330911   7.8292   NaN        Q  \n",
       "893          47.0      1      0   363272   7.0000   NaN        S  \n",
       "894          62.0      0      0   240276   9.6875   NaN        Q  \n",
       "895          27.0      0      0   315154   8.6625   NaN        S  \n",
       "896          22.0      1      1  3101298  12.2875   NaN        S  "
      ]
     },
     "execution_count": 7,
     "metadata": {},
     "output_type": "execute_result"
    }
   ],
   "source": [
    "test_df.head()"
   ]
  },
  {
   "cell_type": "markdown",
   "id": "818104b1",
   "metadata": {},
   "source": [
    "## 1.2 Data Exploration and Transformation"
   ]
  },
  {
   "cell_type": "markdown",
   "id": "2c4e06c7",
   "metadata": {},
   "source": [
    "**Drop Irrelevant Columns**  \n",
    "Drop the 'Name', 'Ticket', 'Cabin' columns because their information are irrelevant to the target output."
   ]
  },
  {
   "cell_type": "code",
   "execution_count": 8,
   "id": "c42955b1",
   "metadata": {},
   "outputs": [],
   "source": [
    "train_df = train_df.drop(columns = ['Name', 'Ticket', 'Cabin'])\n",
    "test_df = test_df.drop(columns = ['Name', 'Ticket', 'Cabin'])"
   ]
  },
  {
   "cell_type": "markdown",
   "id": "c84379cd",
   "metadata": {},
   "source": [
    "**Missing Values**  \n",
    "From the df.info() we can see that there are missing values in the columns 'Age', 'Cabin', 'Embarked' for the train set and missing values in the columns 'Age', 'Fare', 'Cabin' fot the test set. ('Cabin' has already been dropped)"
   ]
  },
  {
   "cell_type": "code",
   "execution_count": 9,
   "id": "4bba1f0d",
   "metadata": {},
   "outputs": [],
   "source": [
    "# Deal with missing vlaue in train_df\n",
    "\n",
    "# Fill the missing values of Age with the median value of Age\n",
    "train_df.Age = train_df.Age.fillna(train_df.Age.median())\n",
    "\n",
    "# Drop the entire row for the missing values of Embarked \n",
    "train_df = train_df.dropna(axis = 0, how = 'any')"
   ]
  },
  {
   "cell_type": "code",
   "execution_count": 10,
   "id": "1f85d491",
   "metadata": {},
   "outputs": [],
   "source": [
    "# Deal with missing vlaue in test_df\n",
    "\n",
    "# Fill the missing values of Age with the median value of Age\n",
    "test_df.Age = test_df.Age.fillna(test_df.Age.median())\n",
    "\n",
    "# Fill the missing values of Fare with the median value of Fare\n",
    "test_df.Fare = test_df.Fare.fillna(test_df.Fare.median())"
   ]
  },
  {
   "cell_type": "code",
   "execution_count": 11,
   "id": "22147b4a",
   "metadata": {},
   "outputs": [
    {
     "data": {
      "text/html": [
       "<div>\n",
       "<style scoped>\n",
       "    .dataframe tbody tr th:only-of-type {\n",
       "        vertical-align: middle;\n",
       "    }\n",
       "\n",
       "    .dataframe tbody tr th {\n",
       "        vertical-align: top;\n",
       "    }\n",
       "\n",
       "    .dataframe thead th {\n",
       "        text-align: right;\n",
       "    }\n",
       "</style>\n",
       "<table border=\"1\" class=\"dataframe\">\n",
       "  <thead>\n",
       "    <tr style=\"text-align: right;\">\n",
       "      <th></th>\n",
       "      <th>Survived</th>\n",
       "      <th>Pclass</th>\n",
       "      <th>Sex</th>\n",
       "      <th>Age</th>\n",
       "      <th>SibSp</th>\n",
       "      <th>Parch</th>\n",
       "      <th>Fare</th>\n",
       "      <th>Embarked</th>\n",
       "    </tr>\n",
       "    <tr>\n",
       "      <th>PassengerId</th>\n",
       "      <th></th>\n",
       "      <th></th>\n",
       "      <th></th>\n",
       "      <th></th>\n",
       "      <th></th>\n",
       "      <th></th>\n",
       "      <th></th>\n",
       "      <th></th>\n",
       "    </tr>\n",
       "  </thead>\n",
       "  <tbody>\n",
       "    <tr>\n",
       "      <th>1</th>\n",
       "      <td>0</td>\n",
       "      <td>3</td>\n",
       "      <td>male</td>\n",
       "      <td>22.0</td>\n",
       "      <td>1</td>\n",
       "      <td>0</td>\n",
       "      <td>7.2500</td>\n",
       "      <td>S</td>\n",
       "    </tr>\n",
       "    <tr>\n",
       "      <th>2</th>\n",
       "      <td>1</td>\n",
       "      <td>1</td>\n",
       "      <td>female</td>\n",
       "      <td>38.0</td>\n",
       "      <td>1</td>\n",
       "      <td>0</td>\n",
       "      <td>71.2833</td>\n",
       "      <td>C</td>\n",
       "    </tr>\n",
       "    <tr>\n",
       "      <th>3</th>\n",
       "      <td>1</td>\n",
       "      <td>3</td>\n",
       "      <td>female</td>\n",
       "      <td>26.0</td>\n",
       "      <td>0</td>\n",
       "      <td>0</td>\n",
       "      <td>7.9250</td>\n",
       "      <td>S</td>\n",
       "    </tr>\n",
       "    <tr>\n",
       "      <th>4</th>\n",
       "      <td>1</td>\n",
       "      <td>1</td>\n",
       "      <td>female</td>\n",
       "      <td>35.0</td>\n",
       "      <td>1</td>\n",
       "      <td>0</td>\n",
       "      <td>53.1000</td>\n",
       "      <td>S</td>\n",
       "    </tr>\n",
       "    <tr>\n",
       "      <th>5</th>\n",
       "      <td>0</td>\n",
       "      <td>3</td>\n",
       "      <td>male</td>\n",
       "      <td>35.0</td>\n",
       "      <td>0</td>\n",
       "      <td>0</td>\n",
       "      <td>8.0500</td>\n",
       "      <td>S</td>\n",
       "    </tr>\n",
       "    <tr>\n",
       "      <th>...</th>\n",
       "      <td>...</td>\n",
       "      <td>...</td>\n",
       "      <td>...</td>\n",
       "      <td>...</td>\n",
       "      <td>...</td>\n",
       "      <td>...</td>\n",
       "      <td>...</td>\n",
       "      <td>...</td>\n",
       "    </tr>\n",
       "    <tr>\n",
       "      <th>887</th>\n",
       "      <td>0</td>\n",
       "      <td>2</td>\n",
       "      <td>male</td>\n",
       "      <td>27.0</td>\n",
       "      <td>0</td>\n",
       "      <td>0</td>\n",
       "      <td>13.0000</td>\n",
       "      <td>S</td>\n",
       "    </tr>\n",
       "    <tr>\n",
       "      <th>888</th>\n",
       "      <td>1</td>\n",
       "      <td>1</td>\n",
       "      <td>female</td>\n",
       "      <td>19.0</td>\n",
       "      <td>0</td>\n",
       "      <td>0</td>\n",
       "      <td>30.0000</td>\n",
       "      <td>S</td>\n",
       "    </tr>\n",
       "    <tr>\n",
       "      <th>889</th>\n",
       "      <td>0</td>\n",
       "      <td>3</td>\n",
       "      <td>female</td>\n",
       "      <td>28.0</td>\n",
       "      <td>1</td>\n",
       "      <td>2</td>\n",
       "      <td>23.4500</td>\n",
       "      <td>S</td>\n",
       "    </tr>\n",
       "    <tr>\n",
       "      <th>890</th>\n",
       "      <td>1</td>\n",
       "      <td>1</td>\n",
       "      <td>male</td>\n",
       "      <td>26.0</td>\n",
       "      <td>0</td>\n",
       "      <td>0</td>\n",
       "      <td>30.0000</td>\n",
       "      <td>C</td>\n",
       "    </tr>\n",
       "    <tr>\n",
       "      <th>891</th>\n",
       "      <td>0</td>\n",
       "      <td>3</td>\n",
       "      <td>male</td>\n",
       "      <td>32.0</td>\n",
       "      <td>0</td>\n",
       "      <td>0</td>\n",
       "      <td>7.7500</td>\n",
       "      <td>Q</td>\n",
       "    </tr>\n",
       "  </tbody>\n",
       "</table>\n",
       "<p>889 rows × 8 columns</p>\n",
       "</div>"
      ],
      "text/plain": [
       "             Survived  Pclass     Sex   Age  SibSp  Parch     Fare Embarked\n",
       "PassengerId                                                                \n",
       "1                   0       3    male  22.0      1      0   7.2500        S\n",
       "2                   1       1  female  38.0      1      0  71.2833        C\n",
       "3                   1       3  female  26.0      0      0   7.9250        S\n",
       "4                   1       1  female  35.0      1      0  53.1000        S\n",
       "5                   0       3    male  35.0      0      0   8.0500        S\n",
       "...               ...     ...     ...   ...    ...    ...      ...      ...\n",
       "887                 0       2    male  27.0      0      0  13.0000        S\n",
       "888                 1       1  female  19.0      0      0  30.0000        S\n",
       "889                 0       3  female  28.0      1      2  23.4500        S\n",
       "890                 1       1    male  26.0      0      0  30.0000        C\n",
       "891                 0       3    male  32.0      0      0   7.7500        Q\n",
       "\n",
       "[889 rows x 8 columns]"
      ]
     },
     "execution_count": 11,
     "metadata": {},
     "output_type": "execute_result"
    }
   ],
   "source": [
    "train_df"
   ]
  },
  {
   "cell_type": "code",
   "execution_count": 12,
   "id": "b448fab9",
   "metadata": {
    "scrolled": false
   },
   "outputs": [
    {
     "data": {
      "text/html": [
       "<div>\n",
       "<style scoped>\n",
       "    .dataframe tbody tr th:only-of-type {\n",
       "        vertical-align: middle;\n",
       "    }\n",
       "\n",
       "    .dataframe tbody tr th {\n",
       "        vertical-align: top;\n",
       "    }\n",
       "\n",
       "    .dataframe thead th {\n",
       "        text-align: right;\n",
       "    }\n",
       "</style>\n",
       "<table border=\"1\" class=\"dataframe\">\n",
       "  <thead>\n",
       "    <tr style=\"text-align: right;\">\n",
       "      <th></th>\n",
       "      <th>Pclass</th>\n",
       "      <th>Sex</th>\n",
       "      <th>Age</th>\n",
       "      <th>SibSp</th>\n",
       "      <th>Parch</th>\n",
       "      <th>Fare</th>\n",
       "      <th>Embarked</th>\n",
       "    </tr>\n",
       "    <tr>\n",
       "      <th>PassengerId</th>\n",
       "      <th></th>\n",
       "      <th></th>\n",
       "      <th></th>\n",
       "      <th></th>\n",
       "      <th></th>\n",
       "      <th></th>\n",
       "      <th></th>\n",
       "    </tr>\n",
       "  </thead>\n",
       "  <tbody>\n",
       "    <tr>\n",
       "      <th>892</th>\n",
       "      <td>3</td>\n",
       "      <td>male</td>\n",
       "      <td>34.5</td>\n",
       "      <td>0</td>\n",
       "      <td>0</td>\n",
       "      <td>7.8292</td>\n",
       "      <td>Q</td>\n",
       "    </tr>\n",
       "    <tr>\n",
       "      <th>893</th>\n",
       "      <td>3</td>\n",
       "      <td>female</td>\n",
       "      <td>47.0</td>\n",
       "      <td>1</td>\n",
       "      <td>0</td>\n",
       "      <td>7.0000</td>\n",
       "      <td>S</td>\n",
       "    </tr>\n",
       "    <tr>\n",
       "      <th>894</th>\n",
       "      <td>2</td>\n",
       "      <td>male</td>\n",
       "      <td>62.0</td>\n",
       "      <td>0</td>\n",
       "      <td>0</td>\n",
       "      <td>9.6875</td>\n",
       "      <td>Q</td>\n",
       "    </tr>\n",
       "    <tr>\n",
       "      <th>895</th>\n",
       "      <td>3</td>\n",
       "      <td>male</td>\n",
       "      <td>27.0</td>\n",
       "      <td>0</td>\n",
       "      <td>0</td>\n",
       "      <td>8.6625</td>\n",
       "      <td>S</td>\n",
       "    </tr>\n",
       "    <tr>\n",
       "      <th>896</th>\n",
       "      <td>3</td>\n",
       "      <td>female</td>\n",
       "      <td>22.0</td>\n",
       "      <td>1</td>\n",
       "      <td>1</td>\n",
       "      <td>12.2875</td>\n",
       "      <td>S</td>\n",
       "    </tr>\n",
       "    <tr>\n",
       "      <th>...</th>\n",
       "      <td>...</td>\n",
       "      <td>...</td>\n",
       "      <td>...</td>\n",
       "      <td>...</td>\n",
       "      <td>...</td>\n",
       "      <td>...</td>\n",
       "      <td>...</td>\n",
       "    </tr>\n",
       "    <tr>\n",
       "      <th>1305</th>\n",
       "      <td>3</td>\n",
       "      <td>male</td>\n",
       "      <td>27.0</td>\n",
       "      <td>0</td>\n",
       "      <td>0</td>\n",
       "      <td>8.0500</td>\n",
       "      <td>S</td>\n",
       "    </tr>\n",
       "    <tr>\n",
       "      <th>1306</th>\n",
       "      <td>1</td>\n",
       "      <td>female</td>\n",
       "      <td>39.0</td>\n",
       "      <td>0</td>\n",
       "      <td>0</td>\n",
       "      <td>108.9000</td>\n",
       "      <td>C</td>\n",
       "    </tr>\n",
       "    <tr>\n",
       "      <th>1307</th>\n",
       "      <td>3</td>\n",
       "      <td>male</td>\n",
       "      <td>38.5</td>\n",
       "      <td>0</td>\n",
       "      <td>0</td>\n",
       "      <td>7.2500</td>\n",
       "      <td>S</td>\n",
       "    </tr>\n",
       "    <tr>\n",
       "      <th>1308</th>\n",
       "      <td>3</td>\n",
       "      <td>male</td>\n",
       "      <td>27.0</td>\n",
       "      <td>0</td>\n",
       "      <td>0</td>\n",
       "      <td>8.0500</td>\n",
       "      <td>S</td>\n",
       "    </tr>\n",
       "    <tr>\n",
       "      <th>1309</th>\n",
       "      <td>3</td>\n",
       "      <td>male</td>\n",
       "      <td>27.0</td>\n",
       "      <td>1</td>\n",
       "      <td>1</td>\n",
       "      <td>22.3583</td>\n",
       "      <td>C</td>\n",
       "    </tr>\n",
       "  </tbody>\n",
       "</table>\n",
       "<p>418 rows × 7 columns</p>\n",
       "</div>"
      ],
      "text/plain": [
       "             Pclass     Sex   Age  SibSp  Parch      Fare Embarked\n",
       "PassengerId                                                       \n",
       "892               3    male  34.5      0      0    7.8292        Q\n",
       "893               3  female  47.0      1      0    7.0000        S\n",
       "894               2    male  62.0      0      0    9.6875        Q\n",
       "895               3    male  27.0      0      0    8.6625        S\n",
       "896               3  female  22.0      1      1   12.2875        S\n",
       "...             ...     ...   ...    ...    ...       ...      ...\n",
       "1305              3    male  27.0      0      0    8.0500        S\n",
       "1306              1  female  39.0      0      0  108.9000        C\n",
       "1307              3    male  38.5      0      0    7.2500        S\n",
       "1308              3    male  27.0      0      0    8.0500        S\n",
       "1309              3    male  27.0      1      1   22.3583        C\n",
       "\n",
       "[418 rows x 7 columns]"
      ]
     },
     "execution_count": 12,
     "metadata": {},
     "output_type": "execute_result"
    }
   ],
   "source": [
    "test_df"
   ]
  },
  {
   "cell_type": "markdown",
   "id": "3146da4f",
   "metadata": {},
   "source": [
    "**One-Hot Encode Categorical Variables**  \n",
    "'Pclass', 'Sex', 'Embarked' are categorical variables."
   ]
  },
  {
   "cell_type": "code",
   "execution_count": 13,
   "id": "017c3b83",
   "metadata": {},
   "outputs": [],
   "source": [
    "# Transform Pclass, Sex and Embarked using One-Hot Encoding\n",
    "\n",
    "categorical_var = ['Pclass', 'Sex', 'Embarked']\n",
    "train_df_ohe = pd.get_dummies(train_df, columns=categorical_var, drop_first=True)\n",
    "test_df_ohe = pd.get_dummies(test_df, columns=categorical_var, drop_first=True)"
   ]
  },
  {
   "cell_type": "markdown",
   "id": "fba7fd16",
   "metadata": {},
   "source": [
    "**Create X and y from the dataframe**  \n",
    "'Survived' is y (target value). "
   ]
  },
  {
   "cell_type": "code",
   "execution_count": 14,
   "id": "9e8d0f43",
   "metadata": {},
   "outputs": [],
   "source": [
    "X_train_dev = train_df_ohe.drop(columns='Survived')\n",
    "y_train_dev = train_df_ohe['Survived']\n",
    "\n",
    "X_test = test_df_ohe"
   ]
  },
  {
   "cell_type": "code",
   "execution_count": 15,
   "id": "58f5aa91",
   "metadata": {
    "scrolled": false
   },
   "outputs": [
    {
     "data": {
      "text/plain": [
       "Text(0, 0.5, 'Distribution of target variable')"
      ]
     },
     "execution_count": 15,
     "metadata": {},
     "output_type": "execute_result"
    },
    {
     "data": {
      "image/png": "[encoded data removed]",
      "text/plain": [
       "<Figure size 432x288 with 1 Axes>"
      ]
     },
     "metadata": {
      "needs_background": "light"
     },
     "output_type": "display_data"
    }
   ],
   "source": [
    "# The distribution of the target variable in the dataset\n",
    "\n",
    "y_train_dev.value_counts(normalize = True).plot(kind='bar', rot=0)\n",
    "plt.xlabel('Survival values')\n",
    "plt.ylabel('Distribution of target variable')"
   ]
  },
  {
   "cell_type": "markdown",
   "id": "ec419ad0",
   "metadata": {},
   "source": [
    "**Standardization**  \n",
    "Scaling the values using StandardScaler()"
   ]
  },
  {
   "cell_type": "code",
   "execution_count": 16,
   "id": "b76b5833",
   "metadata": {},
   "outputs": [],
   "source": [
    "from sklearn.preprocessing import StandardScaler\n",
    "\n",
    "scaler = StandardScaler()\n",
    "X_train_scaled = scaler.fit_transform(X_train_dev)\n",
    "X_test_scaled = scaler.transform(X_test)"
   ]
  },
  {
   "cell_type": "markdown",
   "id": "e3e746bd",
   "metadata": {},
   "source": [
    "**Split Train Set and Develop Set**"
   ]
  },
  {
   "cell_type": "code",
   "execution_count": 17,
   "id": "89b6c37f",
   "metadata": {},
   "outputs": [],
   "source": [
    "from sklearn.model_selection import train_test_split\n",
    "\n",
    "X_train,X_dev,y_train,y_dev = train_test_split(X_train_dev, \n",
    "                                               y_train_dev,\n",
    "                                               test_size=0.3,\n",
    "                                               stratify=y_train_dev,\n",
    "                                               random_state=512)"
   ]
  },
  {
   "cell_type": "markdown",
   "id": "6bb745f1",
   "metadata": {},
   "source": [
    "# Part 2: Modeling and Training"
   ]
  },
  {
   "cell_type": "code",
   "execution_count": 18,
   "id": "33eec2fd",
   "metadata": {},
   "outputs": [],
   "source": [
    "from sklearn.metrics import precision_score, recall_score, f1_score, accuracy_score\n",
    "from sklearn.model_selection import GridSearchCV"
   ]
  },
  {
   "cell_type": "markdown",
   "id": "0d33aaa0",
   "metadata": {},
   "source": [
    "**1.1 Random Forest**"
   ]
  },
  {
   "cell_type": "code",
   "execution_count": 19,
   "id": "7cadb52f",
   "metadata": {},
   "outputs": [
    {
     "name": "stdout",
     "output_type": "stream",
     "text": [
      "Best hyperparameters: {'max_depth': 6, 'max_features': 'sqrt', 'n_estimators': 150}\n",
      "Best cross-validation score: 0.818\n",
      "Develop accuracy of the best model: 0.839\n"
     ]
    }
   ],
   "source": [
    "from sklearn.ensemble import RandomForestClassifier\n",
    "\n",
    "# Define the hyperparameters to tune\n",
    "param_grid = {\n",
    "    'max_features': ['sqrt', 'log2'],\n",
    "    'max_depth': [6, 9, 12, 15],\n",
    "    'n_estimators': [30, 90, 150, 210]\n",
    "}\n",
    "\n",
    "# Create a RandomForestClassifier object\n",
    "rf = RandomForestClassifier(random_state=512)\n",
    "\n",
    "# Create a GridSearchCV object with 3-fold cross-validation\n",
    "grid_search = GridSearchCV(rf, param_grid=param_grid, cv=3)\n",
    "\n",
    "# Fit the GridSearchCV object on the development dataset\n",
    "grid_search.fit(X_train, y_train)\n",
    "\n",
    "# # Print the best hyperparameters and the corresponding mean cross-validation score\n",
    "print(f\"Best hyperparameters: {grid_search.best_params_}\")\n",
    "print(f\"Best cross-validation score: {grid_search.best_score_:.3f}\")\n",
    "\n",
    "# Get the best model from grid search\n",
    "best_model_rf = grid_search.best_estimator_\n",
    "\n",
    "# Predict on the development dataset\n",
    "y_pred_rf = best_model_rf.predict(X_dev)\n",
    "\n",
    "# Calculate the accuracy on the development dataset\n",
    "dev_accuracy = accuracy_score(y_dev, y_pred_rf)\n",
    "print(f\"Develop accuracy of the best model: {dev_accuracy:.3f}\")"
   ]
  },
  {
   "cell_type": "markdown",
   "id": "f5771309",
   "metadata": {},
   "source": [
    "**1.2 Extreme Gradient Boosting**"
   ]
  },
  {
   "cell_type": "code",
   "execution_count": 20,
   "id": "5d75df08",
   "metadata": {},
   "outputs": [
    {
     "name": "stdout",
     "output_type": "stream",
     "text": [
      "Best hyperparameters: {'learning_rate': 1e-05, 'max_depth': 9, 'n_estimators': 5}\n",
      "Best cross-validation score: 0.809\n",
      "Develop accuracy of the best model: 0.749\n"
     ]
    }
   ],
   "source": [
    "from xgboost import XGBClassifier\n",
    "\n",
    "# Define the hyperparameters to tune\n",
    "param_grid = {\n",
    "    'learning_rate': [0.00001, 0.0001, 0.001, 0.01],\n",
    "    'max_depth': [3, 6, 9, 12],\n",
    "    'n_estimators': [5, 10, 30, 50]\n",
    "}\n",
    "\n",
    "# Create a XGBoostingClassifier object\n",
    "xgb = XGBClassifier(random_state=512)\n",
    "\n",
    "# Create a GridSearchCV object with 3-fold cross-validation\n",
    "grid_search = GridSearchCV(xgb, param_grid=param_grid, cv=3)\n",
    "\n",
    "# Fit the GridSearchCV object on the development dataset\n",
    "grid_search.fit(X_train, y_train)\n",
    "\n",
    "# Print the best hyperparameters and the corresponding mean cross-validation score\n",
    "print(f\"Best hyperparameters: {grid_search.best_params_}\")\n",
    "print(f\"Best cross-validation score: {grid_search.best_score_:.3f}\")\n",
    "\n",
    "# Get the best model from grid search\n",
    "best_model_xgb = grid_search.best_estimator_\n",
    "\n",
    "# Predict on the development dataset\n",
    "y_pred_xgb = best_model_xgb.predict(X_dev)\n",
    "\n",
    "# Calculate the accuracy on the development dataset\n",
    "dev_accuracy = accuracy_score(y_dev, y_pred_xgb)\n",
    "print(f\"Develop accuracy of the best model: {dev_accuracy:.3f}\")"
   ]
  },
  {
   "cell_type": "markdown",
   "id": "c4b012dc",
   "metadata": {},
   "source": [
    "**1.3 Stochastic Gradient Decending**"
   ]
  },
  {
   "cell_type": "code",
   "execution_count": 21,
   "id": "3349e150",
   "metadata": {},
   "outputs": [
    {
     "name": "stdout",
     "output_type": "stream",
     "text": [
      "Best hyperparameters: {'alpha': 0.001, 'loss': 'hinge'}\n",
      "Best cross-validation score: 0.725\n",
      "Develop accuracy of the best model: 0.682\n"
     ]
    }
   ],
   "source": [
    "from sklearn.linear_model import SGDClassifier\n",
    "\n",
    "# Define the hyperparameters to tune\n",
    "param_grid = {\n",
    "    'loss':['hinge', 'squared_hinge'] , \n",
    "    'alpha':[1e-3, 1e-4, 1e-5]\n",
    "}\n",
    "\n",
    "# Create a SGDClassifier object, stochastic gradient descent\n",
    "SGD = SGDClassifier(random_state=512)\n",
    "\n",
    "# Fit the GridSearchCV object on the development dataset\n",
    "grid_search = GridSearchCV(SGD, param_grid=param_grid, cv=3)\n",
    "grid_search.fit(X_train, y_train)\n",
    "\n",
    "# Print the best hyperparameters and the corresponding mean cross-validation score\n",
    "print(f\"Best hyperparameters: {grid_search.best_params_}\")\n",
    "print(f\"Best cross-validation score: {grid_search.best_score_:.3f}\")\n",
    "\n",
    "# Get the best model from grid search\n",
    "best_model_SGD = grid_search.best_estimator_\n",
    "\n",
    "# Predict on the development dataset\n",
    "y_pred_SGD = best_model_SGD.predict(X_dev)\n",
    "\n",
    "# Calculate the accuracy on the development dataset\n",
    "dev_accuracy = accuracy_score(y_dev, y_pred_SGD)\n",
    "print(f\"Develop accuracy of the best model: {dev_accuracy:.3f}\")"
   ]
  },
  {
   "cell_type": "markdown",
   "id": "c0368366",
   "metadata": {},
   "source": [
    "**1.4 Gradient Boosting**"
   ]
  },
  {
   "cell_type": "code",
   "execution_count": 22,
   "id": "b0b9faf5",
   "metadata": {},
   "outputs": [
    {
     "name": "stdout",
     "output_type": "stream",
     "text": [
      "Best hyperparameters: {'learning_rate': 0.1, 'max_depth': 3, 'n_estimators': 50}\n",
      "Best cross-validation score: 0.822\n",
      "Develop accuracy of the best model: 0.820\n"
     ]
    }
   ],
   "source": [
    "from sklearn.ensemble import GradientBoostingClassifier\n",
    "\n",
    "# Define the hyperparameters to tune\n",
    "param_grid = {\n",
    "    'learning_rate': [0.001, 0.01, 0.1],\n",
    "    'max_depth': [3, 6, 9, 12],\n",
    "    'n_estimators': [10, 30, 50, 100]\n",
    "}\n",
    "\n",
    "# Create a GradientBoostingClassifier object\n",
    "gb = GradientBoostingClassifier(random_state=512)\n",
    "\n",
    "# Create a GridSearchCV object with 3-fold cross-validation\n",
    "grid_search = GridSearchCV(gb, param_grid=param_grid, cv=3)\n",
    "\n",
    "# Fit the GridSearchCV object on the development dataset\n",
    "grid_search.fit(X_train, y_train)\n",
    "\n",
    "# Print the best hyperparameters and the corresponding mean cross-validation score\n",
    "print(f\"Best hyperparameters: {grid_search.best_params_}\")\n",
    "print(f\"Best cross-validation score: {grid_search.best_score_:.3f}\")\n",
    "\n",
    "# Get the best model from grid search\n",
    "best_model_xgb = grid_search.best_estimator_\n",
    "\n",
    "# Predict on the development dataset\n",
    "y_pred_xgb = best_model_xgb.predict(X_dev)\n",
    "\n",
    "# Calculate the accuracy on the development dataset\n",
    "dev_accuracy = accuracy_score(y_dev, y_pred_xgb)\n",
    "print(f\"Develop accuracy of the best model: {dev_accuracy:.3f}\")"
   ]
  },
  {
   "cell_type": "markdown",
   "id": "91d48c6e",
   "metadata": {},
   "source": [
    "**1.5 Support Vector Machines**"
   ]
  },
  {
   "cell_type": "code",
   "execution_count": 25,
   "id": "225ba29d",
   "metadata": {},
   "outputs": [
    {
     "name": "stdout",
     "output_type": "stream",
     "text": [
      "Develop accuracy of SVM: 0.659\n"
     ]
    }
   ],
   "source": [
    "from sklearn.svm import SVC\n",
    "\n",
    "# Create an SVC object\n",
    "svc = SVC(random_state=512)\n",
    "\n",
    "# Fit the svc object on the training dataset\n",
    "svc.fit(X_train, y_train)\n",
    "\n",
    "# Predict on the development dataset\n",
    "y_pred_svm = svc.predict(X_dev)\n",
    "\n",
    "# Calculate the accuracy on the development dataset\n",
    "dev_accuracy = accuracy_score(y_dev, y_pred_svm)\n",
    "print(f\"Develop accuracy of SVM: {dev_accuracy:.3f}\")"
   ]
  },
  {
   "cell_type": "markdown",
   "id": "d10ddb4a",
   "metadata": {},
   "source": [
    "# Part 3: Prediction"
   ]
  },
  {
   "cell_type": "markdown",
   "id": "225cfe31",
   "metadata": {},
   "source": [
    "After analyzing the resuls, I found that Random Forest has a higher develop accuracy."
   ]
  },
  {
   "cell_type": "code",
   "execution_count": 26,
   "id": "f51eabcc",
   "metadata": {},
   "outputs": [],
   "source": [
    "# Prediction on test set\n",
    "\n",
    "y_test_pred_rf = best_model_rf.predict(X_test)"
   ]
  },
  {
   "cell_type": "code",
   "execution_count": 38,
   "id": "9e307e85",
   "metadata": {},
   "outputs": [
    {
     "data": {
      "text/html": [
       "<div>\n",
       "<style scoped>\n",
       "    .dataframe tbody tr th:only-of-type {\n",
       "        vertical-align: middle;\n",
       "    }\n",
       "\n",
       "    .dataframe tbody tr th {\n",
       "        vertical-align: top;\n",
       "    }\n",
       "\n",
       "    .dataframe thead th {\n",
       "        text-align: right;\n",
       "    }\n",
       "</style>\n",
       "<table border=\"1\" class=\"dataframe\">\n",
       "  <thead>\n",
       "    <tr style=\"text-align: right;\">\n",
       "      <th></th>\n",
       "      <th>Survived</th>\n",
       "    </tr>\n",
       "    <tr>\n",
       "      <th>PassengerId</th>\n",
       "      <th></th>\n",
       "    </tr>\n",
       "  </thead>\n",
       "  <tbody>\n",
       "    <tr>\n",
       "      <th>892</th>\n",
       "      <td>0</td>\n",
       "    </tr>\n",
       "    <tr>\n",
       "      <th>893</th>\n",
       "      <td>0</td>\n",
       "    </tr>\n",
       "    <tr>\n",
       "      <th>894</th>\n",
       "      <td>0</td>\n",
       "    </tr>\n",
       "    <tr>\n",
       "      <th>895</th>\n",
       "      <td>0</td>\n",
       "    </tr>\n",
       "    <tr>\n",
       "      <th>896</th>\n",
       "      <td>1</td>\n",
       "    </tr>\n",
       "  </tbody>\n",
       "</table>\n",
       "</div>"
      ],
      "text/plain": [
       "             Survived\n",
       "PassengerId          \n",
       "892                 0\n",
       "893                 0\n",
       "894                 0\n",
       "895                 0\n",
       "896                 1"
      ]
     },
     "execution_count": 38,
     "metadata": {},
     "output_type": "execute_result"
    }
   ],
   "source": [
    "# Create test results dataframe\n",
    "\n",
    "test_result_df = pd.DataFrame(y_test_pred_rf, columns=['Survived'], index=X_test.index)\n",
    "test_result_df.head()"
   ]
  },
  {
   "cell_type": "code",
   "execution_count": 39,
   "id": "7ab12e0d",
   "metadata": {},
   "outputs": [],
   "source": [
    "# Save results in csv file\n",
    "\n",
    "test_result_df.to_csv('test_results.csv')"
   ]
  }
 ],
 "metadata": {
  "kernelspec": {
   "display_name": "Python 3 (ipykernel)",
   "language": "python",
   "name": "python3"
  },
  "language_info": {
   "codemirror_mode": {
    "name": "ipython",
    "version": 3
   },
   "file_extension": ".py",
   "mimetype": "text/x-python",
   "name": "python",
   "nbconvert_exporter": "python",
   "pygments_lexer": "ipython3",
   "version": "3.9.12"
  }
 },
 "nbformat": 4,
 "nbformat_minor": 5
}
